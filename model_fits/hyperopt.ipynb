{
 "cells": [
  {
   "cell_type": "markdown",
   "id": "07ad8503",
   "metadata": {},
   "source": [
    "# Hyperopt"
   ]
  },
  {
   "cell_type": "code",
   "execution_count": 41,
   "id": "991bc6e0",
   "metadata": {},
   "outputs": [],
   "source": [
    "import os\n",
    "import pandas as pd\n",
    "from sklearn.model_selection import train_test_split\n",
    "from sklearn.model_selection import RepeatedStratifiedKFold\n",
    "from sklearn.linear_model import LogisticRegression\n",
    "from sklearn.model_selection import cross_val_score\n",
    "from numpy import mean\n",
    "from numpy import std\n",
    "from sklearn.ensemble import RandomForestClassifier\n",
    "from sklearn.svm import SVC\n",
    "from sklearn.preprocessing import StandardScaler\n",
    "from sklearn.naive_bayes import GaussianNB\n",
    "from sklearn.neural_network import MLPClassifier\n",
    "from scipy.stats import loguniform\n",
    "from hyperopt import fmin, tpe, hp, STATUS_OK, Trials\n",
    "import hyperopt.pyll.stochastic\n",
    "import seaborn as sns\n",
    "import matplotlib as plt\n",
    "from sklearn.metrics import accuracy_score"
   ]
  },
  {
   "cell_type": "markdown",
   "id": "828e7c5f",
   "metadata": {},
   "source": [
    "### Load and Format Data"
   ]
  },
  {
   "cell_type": "code",
   "execution_count": 42,
   "id": "300460e6",
   "metadata": {},
   "outputs": [],
   "source": [
    "os.chdir('/Users/johnoliver/Downloads/grad-nba-wins/data/mod_data')\n",
    "# data from 2010\n",
    "df10 = pd.read_csv(\"mod10.csv\")\n",
    "# get rid of first variable (unique identifier)\n",
    "df10 = df10.iloc[:,1:]"
   ]
  },
  {
   "cell_type": "code",
   "execution_count": 43,
   "id": "cbe1de5c",
   "metadata": {},
   "outputs": [],
   "source": [
    "# define x and y variables\n",
    "feature_cols = [\"h_avg_points\",\"a_avg_points\",\"h_avg_fg\",\"a_avg_fg\",\n",
    "                \"h_avg_fga\",\"a_avg_fga\",\"h_avg_3p\",\"a_avg_3p\",\n",
    "                \"h_avg_3pa\",\"a_avg_3pa\",\"h_avg_ft\",\"a_avg_ft\",\n",
    "                \"h_avg_orb\",\"a_avg_orb\",\"h_avg_drb\" ,\"a_avg_drb\",\n",
    "                \"h_avg_ast\",\"a_avg_ast\",\"h_avg_stl\", \"a_avg_stl\", \n",
    "                \"h_avg_blk\",\"a_avg_blk\",\"h_avg_tov\",\"a_avg_tov\",\n",
    "                \"h_avg_pf\",\"a_avg_pf\" ,\"h_avg_tsp\",  \"a_avg_tsp\",\n",
    "                \"h_avg_ortg\",\"a_avg_ortg\",\"h_avg_drtg\",\"a_avg_drtg\",\n",
    "                \"h_win_perc\",\"a_win_perc\",\"h_back\",\"a_back\",\n",
    "                \"home_elo\", \"away_elo\"]\n",
    "\n",
    "X = df10[feature_cols]\n",
    "Y = df10.win_status\n",
    "\n",
    "scaler = StandardScaler()\n",
    "scale_X = scaler.fit_transform(X)\n",
    "\n",
    "# split data into training and testing\n",
    "X_train,X_test,y_train,y_test=train_test_split(X,Y,\n",
    "                                               test_size=0.3,\n",
    "                                               random_state=0)\n",
    "# scaled data\n",
    "scale_X_train,scale_X_test,y_train,y_test=train_test_split(scale_X,Y,\n",
    "                                               test_size=0.3,\n",
    "                                               random_state=0)"
   ]
  },
  {
   "cell_type": "markdown",
   "id": "76e74988",
   "metadata": {},
   "source": [
    "# Logistic Regression"
   ]
  },
  {
   "cell_type": "code",
   "execution_count": null,
   "id": "9f073e59",
   "metadata": {},
   "outputs": [],
   "source": [
    "%%time\n",
    "cv = RepeatedStratifiedKFold(n_splits=10, n_repeats = 3, random_state=1)\n",
    "def hyperopt_train_test(params):\n",
    "    X_ = X_train[:]\n",
    "    clf = LogisticRegression(**params)\n",
    "    return cross_val_score(clf, X_, y_train).mean()\n",
    "\n",
    "space4lr = {\n",
    "    'solver': hp.choice('solver', ['newton-cg', 'lbfgs', 'liblinear']),\n",
    "    'penalty': hp.choice('penalty', ['none', 'l1', 'l2', 'elasticnet']),\n",
    "    'C': hp.uniform('C', 0, 20),\n",
    "    'multi_class': hp.choice('multi_class', [\"auto\", \"ovr\"]),\n",
    "    'verbose': hp.choice('verbose', [0,1,2])\n",
    "}\n",
    "\n",
    "best = 0\n",
    "def f(params):\n",
    "    global best\n",
    "    acc = hyperopt_train_test(params)\n",
    "    if acc > best:\n",
    "        best = acc\n",
    "    print('new best:', best, params)\n",
    "    return {'loss': -acc, 'status': STATUS_OK}\n",
    "\n",
    "trials = Trials()\n",
    "best = fmin(f, space4lr, algo=tpe.suggest, max_evals=100, trials=trials)"
   ]
  },
  {
   "cell_type": "code",
   "execution_count": 56,
   "id": "defd6a78",
   "metadata": {},
   "outputs": [
    {
     "name": "stdout",
     "output_type": "stream",
     "text": [
      "Cross Validation Score: 0.709\n",
      "Difference in CV from Unparameterized:  1.128\n",
      "Difference in CV from Random Search:  0.0\n",
      "Random Search Run Time: 1min 2s\n"
     ]
    }
   ],
   "source": [
    "print(\"Cross Validation Score: 0.709\")\n",
    "print(\"Difference in CV from Unparameterized: \", round((0.709 - 0.6977156659765356)*100,3))\n",
    "print(\"Difference in CV from Random Search: \", round((0.709 - 0.709)*100,3))\n",
    "print(\"Hyperopt Run Time: 48.2s\")\n",
    "print(\"Difference in Run Time: 1 min 55 seconds\")\n",
    "print('best hyps:')\n",
    "print(best)"
   ]
  },
  {
   "cell_type": "markdown",
   "id": "c9640e65",
   "metadata": {},
   "source": [
    "# Random Forest"
   ]
  },
  {
   "cell_type": "code",
   "execution_count": 1,
   "id": "6078eb12",
   "metadata": {},
   "outputs": [
    {
     "ename": "NameError",
     "evalue": "name 'RepeatedStratifiedKFold' is not defined",
     "output_type": "error",
     "traceback": [
      "\u001b[0;31m---------------------------------------------------------------------------\u001b[0m",
      "\u001b[0;31mNameError\u001b[0m                                 Traceback (most recent call last)",
      "\u001b[0;32m<timed exec>\u001b[0m in \u001b[0;36m<module>\u001b[0;34m\u001b[0m\n",
      "\u001b[0;31mNameError\u001b[0m: name 'RepeatedStratifiedKFold' is not defined"
     ]
    }
   ],
   "source": [
    "%%time\n",
    "cv = RepeatedStratifiedKFold(n_splits=10, n_repeats = 3, random_state=1)\n",
    "def hyperopt_train_test(params):\n",
    "    X_ = X_train[:]\n",
    "    clf = RandomForestClassifier(**params)\n",
    "    return cross_val_score(clf, X_, y_train, cv = cv).mean()\n",
    "\n",
    "space4rf = {\n",
    "    'max_depth': hp.choice('max_depth', [1,2,3,4,5,6,7,8,9,10,11,12,13,14,\n",
    "                                         15,16,17,18,19,20]),\n",
    "    'max_features': hp.choice('max_features', [1,2,3,4,5]),\n",
    "    'n_estimators': hp.choice('n_estimators', [1,2,3,4,5,6,7,8,9,10,11,12,13,14,\n",
    "                                         15,16,17,18,19,20]),\n",
    "    'criterion': hp.choice('criterion', [\"gini\", \"entropy\"])\n",
    "}\n",
    "\n",
    "best = 0\n",
    "def f(params):\n",
    "    global best\n",
    "    acc = hyperopt_train_test(params)\n",
    "    if acc > best:\n",
    "        best = acc\n",
    "    print('new best:', best, params)\n",
    "    return {'loss': -acc, 'status': STATUS_OK}\n",
    "\n",
    "trials = Trials()\n",
    "best = fmin(f, space4rf, algo=tpe.suggest, max_evals=100, trials=trials)"
   ]
  },
  {
   "cell_type": "code",
   "execution_count": 75,
   "id": "a5147921",
   "metadata": {},
   "outputs": [
    {
     "name": "stdout",
     "output_type": "stream",
     "text": [
      "Cross Validation Score: 0.679\n",
      "Difference in CV from Unparameterized:  1.29\n",
      "Difference in CV from Random Search:  0.15\n",
      "Random Search Run Time: 1 min 44 seconds\n",
      "Difference in run time: -32 seconds\n",
      "best hyps:\n",
      "{'C': 0.54133135022197, 'gamma': 0.5642208213263, 'kernel': 0}\n"
     ]
    }
   ],
   "source": [
    "print(\"Cross Validation Score: 0.679\")\n",
    "print(\"Difference in CV from Unparameterized: \", round((0.6805 - 0.6676)*100,3))\n",
    "print(\"Difference in CV from Random Search: \", round((0.6805 - 0.679)*100,3))\n",
    "print(\"Random Search Run Time: 1 min 44 seconds\")\n",
    "print(\"Difference in run time: -32 seconds\")\n",
    "print('best hyps:')\n",
    "print(best)"
   ]
  },
  {
   "cell_type": "markdown",
   "id": "07d621c1",
   "metadata": {},
   "source": [
    "# Support Vector Machine"
   ]
  },
  {
   "cell_type": "code",
   "execution_count": null,
   "id": "87db6a2d",
   "metadata": {},
   "outputs": [],
   "source": [
    "%%time\n",
    "def hyperopt_train_test(params):\n",
    "    X_ = scale_X_train[:]\n",
    "    clf = SVC(**params)\n",
    "    return cross_val_score(clf, X_, y_train).mean()\n",
    "\n",
    "space4svm = {\n",
    "    'C': hp.uniform('C', 0, 20),\n",
    "    'kernel': hp.choice('kernel', ['linear', 'sigmoid', 'poly', 'rbf']),\n",
    "    'gamma': hp.uniform('gamma', 0, 20)\n",
    "}\n",
    "\n",
    "best = 0\n",
    "def f(params):\n",
    "    global best\n",
    "    acc = hyperopt_train_test(params)\n",
    "    if acc > best:\n",
    "        best = acc\n",
    "    print('new best:', best, params)\n",
    "    return {'loss': -acc, 'status': STATUS_OK}\n",
    "\n",
    "\n",
    "trials = Trials()\n",
    "best = fmin(f, space4svm, algo=tpe.suggest, max_evals=100, trials=trials)"
   ]
  },
  {
   "cell_type": "code",
   "execution_count": 74,
   "id": "2b884e48",
   "metadata": {},
   "outputs": [
    {
     "name": "stdout",
     "output_type": "stream",
     "text": [
      "Cross Validation Score: 0.706\n",
      "Difference in CV from Unparameterized:  3.84\n",
      "Difference in CV from Random Search:  0.9\n",
      "Random Search Run Time: 1 min 51 seconds\n",
      "Difference in run time: -36 seconds\n",
      "best hyps:\n",
      "{'C': 0.54133135022197, 'gamma': 0.5642208213263, 'kernel': 0}\n"
     ]
    }
   ],
   "source": [
    "print(\"Cross Validation Score: 0.706\")\n",
    "print(\"Difference in CV from Unparameterized: \", round((0.706 - 0.6676)*100,3))\n",
    "print(\"Difference in CV from Random Search: \", round((0.706 - 0.697)*100,3))\n",
    "print(\"Random Search Run Time: 1 min 51 seconds\")\n",
    "print(\"Difference in run time: -36 seconds\")\n",
    "print('best hyps:')\n",
    "print(best)"
   ]
  }
 ],
 "metadata": {
  "kernelspec": {
   "display_name": "Python 3 (ipykernel)",
   "language": "python",
   "name": "python3"
  },
  "language_info": {
   "codemirror_mode": {
    "name": "ipython",
    "version": 3
   },
   "file_extension": ".py",
   "mimetype": "text/x-python",
   "name": "python",
   "nbconvert_exporter": "python",
   "pygments_lexer": "ipython3",
   "version": "3.9.7"
  }
 },
 "nbformat": 4,
 "nbformat_minor": 5
}
