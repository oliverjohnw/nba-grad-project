{
 "cells": [
  {
   "cell_type": "markdown",
   "id": "9c24f159",
   "metadata": {},
   "source": [
    "# Dr. Toribio Example"
   ]
  },
  {
   "cell_type": "markdown",
   "id": "27af77a0",
   "metadata": {},
   "source": [
    "### Load Packages"
   ]
  },
  {
   "cell_type": "code",
   "execution_count": 1,
   "id": "a527eb2d",
   "metadata": {},
   "outputs": [],
   "source": [
    "import os\n",
    "import pandas as pd\n",
    "from sklearn.model_selection import train_test_split\n",
    "from sklearn.model_selection import RepeatedStratifiedKFold\n",
    "from sklearn.linear_model import LogisticRegression\n",
    "from sklearn.model_selection import cross_val_score\n",
    "from numpy import mean\n",
    "from numpy import std\n",
    "from sklearn.ensemble import RandomForestClassifier\n",
    "from sklearn.svm import SVC\n",
    "from sklearn.preprocessing import StandardScaler\n",
    "from sklearn.naive_bayes import GaussianNB\n",
    "from sklearn.neural_network import MLPClassifier\n",
    "from sklearn.metrics import accuracy_score"
   ]
  },
  {
   "cell_type": "markdown",
   "id": "21613860",
   "metadata": {},
   "source": [
    "### Read in Data"
   ]
  },
  {
   "cell_type": "markdown",
   "id": "6d1d1cc6",
   "metadata": {},
   "source": [
    "2010 data. Last 10 average."
   ]
  },
  {
   "cell_type": "code",
   "execution_count": 6,
   "id": "92fad90e",
   "metadata": {},
   "outputs": [],
   "source": [
    "os.chdir('/Users/johnoliver/Downloads/grad-nba-wins/data/mod_data')\n",
    "# data from 2010\n",
    "df10 = pd.read_csv(\"mod10.csv\")\n",
    "# get rid of first variable (unique identifier)\n",
    "df10 = df10.iloc[:,1:]"
   ]
  },
  {
   "cell_type": "markdown",
   "id": "dd0858b4",
   "metadata": {},
   "source": [
    "### Format Data"
   ]
  },
  {
   "cell_type": "code",
   "execution_count": 7,
   "id": "5683d3a6",
   "metadata": {},
   "outputs": [],
   "source": [
    "# define x and y variables\n",
    "feature_cols = [\"h_avg_points\",\"a_avg_points\",\"h_avg_fg\",\"a_avg_fg\",\n",
    "                \"h_avg_fga\",\"a_avg_fga\",\"h_avg_3p\",\"a_avg_3p\",\n",
    "                \"h_avg_3pa\",\"a_avg_3pa\",\"h_avg_ft\",\"a_avg_ft\",\n",
    "                \"h_avg_orb\",\"a_avg_orb\",\"h_avg_drb\" ,\"a_avg_drb\",\n",
    "                \"h_avg_ast\",\"a_avg_ast\",\"h_avg_stl\", \"a_avg_stl\", \n",
    "                \"h_avg_blk\",\"a_avg_blk\",\"h_avg_tov\",\"a_avg_tov\",\n",
    "                \"h_avg_pf\",\"a_avg_pf\" ,\"h_avg_tsp\",  \"a_avg_tsp\",\n",
    "                \"h_avg_ortg\",\"a_avg_ortg\",\"h_avg_drtg\",\"a_avg_drtg\",\n",
    "                \"h_win_perc\",\"a_win_perc\",\"h_back\",\"a_back\",\n",
    "                \"home_elo\", \"away_elo\"]\n",
    "\n",
    "X = df10[feature_cols]\n",
    "Y = df10.win_status\n",
    "\n",
    "scaler = StandardScaler()\n",
    "scale_X = scaler.fit_transform(X)\n",
    "\n",
    "# split data into training and testing\n",
    "X_train,X_test,y_train,y_test=train_test_split(X,Y,\n",
    "                                               test_size=0.3,\n",
    "                                               random_state=0)\n",
    "# scaled data\n",
    "scale_X_train,scale_X_test,y_train,y_test=train_test_split(scale_X,Y,\n",
    "                                               test_size=0.3,\n",
    "                                               random_state=0)\n"
   ]
  },
  {
   "cell_type": "markdown",
   "id": "579af395",
   "metadata": {},
   "source": [
    "## Unparameterized"
   ]
  },
  {
   "cell_type": "code",
   "execution_count": null,
   "id": "0a00a52a",
   "metadata": {},
   "outputs": [],
   "source": [
    "cv = RepeatedStratifiedKFold(n_splits=5, n_repeats = 1,\n",
    "                             random_state=1)\n",
    "\n",
    "lr_model = LogisticRegression()\n",
    "lr_scores = cross_val_score(lr_model, X, Y,\n",
    "                            scoring = 'accuracy', cv = cv,\n",
    "                            n_jobs = 1)"
   ]
  },
  {
   "cell_type": "code",
   "execution_count": 17,
   "id": "95832113",
   "metadata": {},
   "outputs": [
    {
     "data": {
      "text/plain": [
       "array([0.645     , 0.71      , 0.745     , 0.70351759, 0.66331658])"
      ]
     },
     "execution_count": 17,
     "metadata": {},
     "output_type": "execute_result"
    }
   ],
   "source": [
    "# scores for the 10 folds\n",
    "lr_scores"
   ]
  },
  {
   "cell_type": "code",
   "execution_count": null,
   "id": "6421776e",
   "metadata": {},
   "outputs": [],
   "source": [
    "lr_model2 = LogisticRegression(C = 1)\n",
    "lr_scores2 = cross_val_score(lr_model2, X, Y,\n",
    "                            scoring = 'accuracy', cv = cv,\n",
    "                            n_jobs = 1)\n",
    "\n",
    "lr_model3 = LogisticRegression(C = 10)\n",
    "lr_scores3 = cross_val_score(lr_model3, X, Y,\n",
    "                            scoring = 'accuracy', cv = cv,\n",
    "                            n_jobs = 1)\n",
    "\n",
    "lr_model4 = LogisticRegression(C = 50)\n",
    "lr_scores4 = cross_val_score(lr_model4, X, Y,\n",
    "                            scoring = 'accuracy', cv = cv,\n",
    "                            n_jobs = 1)"
   ]
  },
  {
   "cell_type": "code",
   "execution_count": 20,
   "id": "12b3e4c1",
   "metadata": {},
   "outputs": [
    {
     "data": {
      "text/plain": [
       "array([0.63      , 0.715     , 0.745     , 0.71356784, 0.66834171])"
      ]
     },
     "execution_count": 20,
     "metadata": {},
     "output_type": "execute_result"
    }
   ],
   "source": [
    "lr_scores2"
   ]
  },
  {
   "cell_type": "code",
   "execution_count": 23,
   "id": "60b25aac",
   "metadata": {},
   "outputs": [
    {
     "data": {
      "text/plain": [
       "array([0.635     , 0.715     , 0.745     , 0.69849246, 0.65326633])"
      ]
     },
     "execution_count": 23,
     "metadata": {},
     "output_type": "execute_result"
    }
   ],
   "source": [
    "lr_scores3"
   ]
  },
  {
   "cell_type": "code",
   "execution_count": 24,
   "id": "38342073",
   "metadata": {},
   "outputs": [
    {
     "data": {
      "text/plain": [
       "array([0.63      , 0.715     , 0.745     , 0.71356784, 0.66834171])"
      ]
     },
     "execution_count": 24,
     "metadata": {},
     "output_type": "execute_result"
    }
   ],
   "source": [
    "lr_scores4"
   ]
  },
  {
   "cell_type": "code",
   "execution_count": null,
   "id": "9e4da552",
   "metadata": {},
   "outputs": [],
   "source": []
  }
 ],
 "metadata": {
  "kernelspec": {
   "display_name": "Python 3 (ipykernel)",
   "language": "python",
   "name": "python3"
  },
  "language_info": {
   "codemirror_mode": {
    "name": "ipython",
    "version": 3
   },
   "file_extension": ".py",
   "mimetype": "text/x-python",
   "name": "python",
   "nbconvert_exporter": "python",
   "pygments_lexer": "ipython3",
   "version": "3.9.7"
  }
 },
 "nbformat": 4,
 "nbformat_minor": 5
}
