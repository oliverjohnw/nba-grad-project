{
 "cells": [
  {
   "cell_type": "markdown",
   "id": "dfe6bdc0",
   "metadata": {},
   "source": [
    "# Unparameterized K-Fold Cross Validation"
   ]
  },
  {
   "cell_type": "markdown",
   "id": "08c27c82",
   "metadata": {},
   "source": [
    "### Load Packages"
   ]
  },
  {
   "cell_type": "code",
   "execution_count": 97,
   "id": "e1dc9197",
   "metadata": {},
   "outputs": [],
   "source": [
    "import os\n",
    "import pandas as pd\n",
    "from sklearn.model_selection import train_test_split\n",
    "from sklearn.model_selection import RepeatedStratifiedKFold\n",
    "from sklearn.linear_model import LogisticRegression\n",
    "from sklearn.model_selection import cross_val_score\n",
    "from numpy import mean\n",
    "from numpy import std\n",
    "from sklearn.ensemble import RandomForestClassifier\n",
    "from sklearn.svm import SVC\n",
    "from sklearn.preprocessing import StandardScaler\n",
    "from sklearn.naive_bayes import GaussianNB\n",
    "from sklearn.neural_network import MLPClassifier\n",
    "from sklearn.metrics import accuracy_score"
   ]
  },
  {
   "cell_type": "markdown",
   "id": "ed806510",
   "metadata": {},
   "source": [
    "### Read in Data"
   ]
  },
  {
   "cell_type": "markdown",
   "id": "078edcf8",
   "metadata": {},
   "source": [
    "Data is from 2009-2010 season. 998 total observations consisting of 39 variables. Among the variables, 1 is a binary win/loss variable stating whether the home team won or lost the given game. The remaining 38 variables are broken down into team averages and team performance metrics. There are 34 variables referring to team averages (17 for home, 17 for away). Team averages are calculated from the teams last 10 games. \n",
    "\n",
    "So for the 11th game of the season, team average variables will be the averaged box score stats from games 1-10. For the 12th, team average variables will be calculated from 2-11. And so on. In doing so, this leaves the first 10 games unpredictable, as one can not take average of last 10 games.\n",
    "\n",
    "The team metric variables consist of ELO, which is a continous metric that defines overall team strength. A team that is conistently good will show high levels of ELO. The idea is that a team gets ELO points for good performances. A playoff win will equate to more ELO points than a win in game 4 of the season. Blowouts, upsets, and road victories receive more points as well. Along with ELO, teams winning percentage in the last 10 games is also considered and recorded as a variable. This well help give a feel of overall recent performance.\n",
    "\n",
    "The remaining variables consist of 2 dummy variables specifying whether each team is playing in a back to back. For instance, if Cleveland is playing Miami on December 25th, and Cleveland played last night on December 24th, they will receive a 1 for the back to back variable. "
   ]
  },
  {
   "cell_type": "code",
   "execution_count": 75,
   "id": "6530c084",
   "metadata": {},
   "outputs": [],
   "source": [
    "os.chdir('/Users/johnoliver/Downloads/grad-nba-wins/data/mod_data')\n",
    "# data from 2010\n",
    "df10 = pd.read_csv(\"mod10.csv\")\n",
    "# get rid of first variable (unique identifier)\n",
    "df10 = df10.iloc[:,1:]"
   ]
  },
  {
   "cell_type": "markdown",
   "id": "bfe54c6c",
   "metadata": {},
   "source": [
    "### Format Data"
   ]
  },
  {
   "cell_type": "markdown",
   "id": "9e9e2d86",
   "metadata": {},
   "source": [
    "Data is split into training (70%) and testing (30%) data. Home win is predicted by the 38 average and team metric variables"
   ]
  },
  {
   "cell_type": "code",
   "execution_count": 76,
   "id": "727cd4ba",
   "metadata": {},
   "outputs": [],
   "source": [
    "# define x and y variables\n",
    "feature_cols = [\"h_avg_points\",\"a_avg_points\",\"h_avg_fg\",\"a_avg_fg\",\n",
    "                \"h_avg_fga\",\"a_avg_fga\",\"h_avg_3p\",\"a_avg_3p\",\n",
    "                \"h_avg_3pa\",\"a_avg_3pa\",\"h_avg_ft\",\"a_avg_ft\",\n",
    "                \"h_avg_orb\",\"a_avg_orb\",\"h_avg_drb\" ,\"a_avg_drb\",\n",
    "                \"h_avg_ast\",\"a_avg_ast\",\"h_avg_stl\", \"a_avg_stl\", \n",
    "                \"h_avg_blk\",\"a_avg_blk\",\"h_avg_tov\",\"a_avg_tov\",\n",
    "                \"h_avg_pf\",\"a_avg_pf\" ,\"h_avg_tsp\",  \"a_avg_tsp\",\n",
    "                \"h_avg_ortg\",\"a_avg_ortg\",\"h_avg_drtg\",\"a_avg_drtg\",\n",
    "                \"h_win_perc\",\"a_win_perc\",\"h_back\",\"a_back\",\n",
    "                \"home_elo\", \"away_elo\"]\n",
    "\n",
    "X = df10[feature_cols]\n",
    "Y = df10.win_status\n",
    "\n",
    "scaler = StandardScaler()\n",
    "scale_X = scaler.fit_transform(X)\n",
    "\n",
    "# split data into training and testing\n",
    "X_train,X_test,y_train,y_test=train_test_split(X,Y,\n",
    "                                               test_size=0.3,\n",
    "                                               random_state=0)\n",
    "# scaled data\n",
    "scale_X_train,scale_X_test,y_train,y_test=train_test_split(scale_X,Y,\n",
    "                                               test_size=0.3,\n",
    "                                               random_state=0)\n"
   ]
  },
  {
   "cell_type": "markdown",
   "id": "a5463bea",
   "metadata": {},
   "source": [
    "# Logistic Regression"
   ]
  },
  {
   "cell_type": "code",
   "execution_count": null,
   "id": "82888a82",
   "metadata": {},
   "outputs": [],
   "source": [
    "%%time\n",
    "# set up k fold cross validation \n",
    "cv = RepeatedStratifiedKFold(n_splits=10, n_repeats = 3, random_state=1)\n",
    "lr_model = LogisticRegression()\n",
    "lr_model.fit(X_train,y_train)\n",
    "lr_scores = cross_val_score(lr_model, X_train, y_train,\n",
    "                            scoring = 'accuracy', cv = cv,\n",
    "                            n_jobs = 1)\n",
    "\n",
    "lr_ypred = lr_model.predict(X_test)"
   ]
  },
  {
   "cell_type": "code",
   "execution_count": 105,
   "id": "3bc6d780",
   "metadata": {},
   "outputs": [
    {
     "name": "stdout",
     "output_type": "stream",
     "text": [
      "Cross Validation Score: 0.6893838383838384\n",
      "Nonparameterized Run Time: 5.11 s s\n"
     ]
    }
   ],
   "source": [
    "print(\"Cross Validation Score: %s\" % lr_scores.mean())\n",
    "print(\"Nonparameterized Run Time: 5.11 s s\")"
   ]
  },
  {
   "cell_type": "markdown",
   "id": "c766506d",
   "metadata": {},
   "source": [
    "# Random Forest Classifier"
   ]
  },
  {
   "cell_type": "code",
   "execution_count": null,
   "id": "c00cf7ef",
   "metadata": {},
   "outputs": [],
   "source": [
    "%%time\n",
    "rf_model = RandomForestClassifier()\n",
    "rf_model.fit(X_train,y_train)\n",
    "rf_scores = cross_val_score(rf_model, X_train, y_train,\n",
    "                            scoring = 'accuracy', cv = cv,\n",
    "                            n_jobs = 1)\n",
    "\n",
    "rf_ypred = rf_model.predict(X_test)"
   ]
  },
  {
   "cell_type": "code",
   "execution_count": 99,
   "id": "3ea9860b",
   "metadata": {},
   "outputs": [
    {
     "name": "stdout",
     "output_type": "stream",
     "text": [
      "Cross Validation Score: 0.6623326432022085\n",
      "Nonparameterized Run Time: 32.6 s s\n"
     ]
    }
   ],
   "source": [
    "print(\"Cross Validation Score: %s\" % rf_scores.mean())\n",
    "print(\"Nonparameterized Run Time: 32.6 s s\")"
   ]
  },
  {
   "cell_type": "markdown",
   "id": "d50208e2",
   "metadata": {},
   "source": [
    "# Support Vector Machine"
   ]
  },
  {
   "cell_type": "code",
   "execution_count": null,
   "id": "395a1eab",
   "metadata": {
    "scrolled": true
   },
   "outputs": [],
   "source": [
    "%%time\n",
    "svc_model = SVC()\n",
    "svc_model.fit(scale_X_train,y_train)\n",
    "svc_scores = cross_val_score(svc_model, scale_X_train, y_train,\n",
    "                            scoring = 'accuracy', cv = cv,\n",
    "                            n_jobs = 1)\n",
    "\n",
    "svc_ypred = svc_model.predict(scale_X_test)"
   ]
  },
  {
   "cell_type": "code",
   "execution_count": 100,
   "id": "04a6d4fd",
   "metadata": {},
   "outputs": [
    {
     "name": "stdout",
     "output_type": "stream",
     "text": [
      "Cross Validation Score: 0.6590200138026225\n",
      "Nonparameterized Run Time: 3.58 s\n"
     ]
    }
   ],
   "source": [
    "print(\"Cross Validation Score: %s\" % svc_scores.mean())\n",
    "print(\"Nonparameterized Run Time: 3.58 s\")"
   ]
  },
  {
   "cell_type": "markdown",
   "id": "15ab1481",
   "metadata": {},
   "source": [
    "# Naive Bayes"
   ]
  },
  {
   "cell_type": "code",
   "execution_count": null,
   "id": "7c2f3d28",
   "metadata": {},
   "outputs": [],
   "source": [
    "%%time\n",
    "nb_model = GaussianNB()\n",
    "nb_model.fit(scale_X_train,y_train)\n",
    "nb_scores = cross_val_score(nb_model, scale_X_train, y_train,\n",
    "                            scoring = 'accuracy', cv = cv,\n",
    "                            n_jobs = 1)\n",
    "\n",
    "nb_ypred = nb_model.predict(scale_X_test)"
   ]
  },
  {
   "cell_type": "code",
   "execution_count": 101,
   "id": "41a1289a",
   "metadata": {},
   "outputs": [
    {
     "name": "stdout",
     "output_type": "stream",
     "text": [
      "Cross Validation Score: 0.6580676328502417\n",
      "Nonparameterized Run Time: 374 ms\n"
     ]
    }
   ],
   "source": [
    "print(\"Cross Validation Score: %s\" % nb_scores.mean())\n",
    "print(\"Nonparameterized Run Time: 374 ms\")"
   ]
  },
  {
   "cell_type": "markdown",
   "id": "07c506eb",
   "metadata": {},
   "source": [
    "# Artificial Neural Network"
   ]
  },
  {
   "cell_type": "code",
   "execution_count": null,
   "id": "a9a70b86",
   "metadata": {},
   "outputs": [],
   "source": [
    "%%time\n",
    "nn_model = MLPClassifier()\n",
    "nn_model.fit(scale_X_train, y_train)\n",
    "nn_scores = cross_val_score(nn_model, scale_X_train, y_train,\n",
    "                            scoring = 'accuracy', cv = cv,\n",
    "                            n_jobs = 1)\n",
    "\n",
    "nn_ypred = nn_model.predict(scale_X_test)"
   ]
  },
  {
   "cell_type": "code",
   "execution_count": 102,
   "id": "2f05c06d",
   "metadata": {},
   "outputs": [
    {
     "name": "stdout",
     "output_type": "stream",
     "text": [
      "Cross Validation Score: 0.6322636300897171\n",
      "Nonparameterized Run Time: 1min 19s\n"
     ]
    }
   ],
   "source": [
    "print(\"Cross Validation Score: %s\" % nn_scores.mean())\n",
    "print(\"Nonparameterized Run Time: 1min 19s\")"
   ]
  }
 ],
 "metadata": {
  "kernelspec": {
   "display_name": "Python 3 (ipykernel)",
   "language": "python",
   "name": "python3"
  },
  "language_info": {
   "codemirror_mode": {
    "name": "ipython",
    "version": 3
   },
   "file_extension": ".py",
   "mimetype": "text/x-python",
   "name": "python",
   "nbconvert_exporter": "python",
   "pygments_lexer": "ipython3",
   "version": "3.9.7"
  }
 },
 "nbformat": 4,
 "nbformat_minor": 5
}
