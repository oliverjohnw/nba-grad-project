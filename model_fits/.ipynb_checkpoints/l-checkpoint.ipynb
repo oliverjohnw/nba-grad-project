{
 "cells": [
  {
   "cell_type": "markdown",
   "id": "2b41623e",
   "metadata": {},
   "source": [
    "# Random Search "
   ]
  },
  {
   "cell_type": "code",
   "execution_count": null,
   "id": "ca3fcd66",
   "metadata": {},
   "outputs": [],
   "source": [
    "Run mutltiple times, get sd"
   ]
  },
  {
   "cell_type": "markdown",
   "id": "701feb1c",
   "metadata": {},
   "source": [
    "### Load Packages"
   ]
  },
  {
   "cell_type": "code",
   "execution_count": null,
   "id": "4815e93e",
   "metadata": {},
   "outputs": [],
   "source": [
    "import os\n",
    "import pandas as pd\n",
    "import numpy as np\n",
    "from sklearn.model_selection import train_test_split\n",
    "from sklearn.model_selection import RepeatedStratifiedKFold\n",
    "from sklearn.linear_model import LogisticRegression\n",
    "from sklearn.model_selection import cross_val_score\n",
    "from numpy import mean\n",
    "from numpy import std\n",
    "from sklearn.ensemble import RandomForestClassifier\n",
    "from sklearn.svm import SVC\n",
    "from sklearn.preprocessing import StandardScaler\n",
    "from sklearn.naive_bayes import GaussianNB\n",
    "from sklearn.neural_network import MLPClassifier\n",
    "from scipy.stats import loguniform\n",
    "from sklearn.model_selection import RandomizedSearchCV\n",
    "from sklearn.metrics import accuracy_score\n",
    "import scipy.stats as stats\n",
    "from sklearn.metrics import classification_report, confusion_matrix"
   ]
  },
  {
   "cell_type": "markdown",
   "id": "12650071",
   "metadata": {},
   "source": [
    "### Read and Format Data"
   ]
  },
  {
   "cell_type": "code",
   "execution_count": null,
   "id": "96dfc87e",
   "metadata": {},
   "outputs": [],
   "source": [
    "os.chdir('/Users/johnoliver/Downloads/grad-nba-wins/data/mod_data')\n",
    "# data from 2010\n",
    "df10 = pd.read_csv(\"mod10.csv\")\n",
    "# get rid of first variable (unique identifier)\n",
    "df10 = df10.iloc[:,1:]"
   ]
  },
  {
   "cell_type": "code",
   "execution_count": null,
   "id": "ff0c2778",
   "metadata": {},
   "outputs": [],
   "source": [
    "# define x and y variables\n",
    "feature_cols = [\"h_avg_points\",\"a_avg_points\",\"h_avg_fg\",\"a_avg_fg\",\n",
    "                \"h_avg_fga\",\"a_avg_fga\",\"h_avg_3p\",\"a_avg_3p\",\n",
    "                \"h_avg_3pa\",\"a_avg_3pa\",\"h_avg_ft\",\"a_avg_ft\",\n",
    "                \"h_avg_orb\",\"a_avg_orb\",\"h_avg_drb\" ,\"a_avg_drb\",\n",
    "                \"h_avg_ast\",\"a_avg_ast\",\"h_avg_stl\", \"a_avg_stl\", \n",
    "                \"h_avg_blk\",\"a_avg_blk\",\"h_avg_tov\",\"a_avg_tov\",\n",
    "                \"h_avg_pf\",\"a_avg_pf\" ,\"h_avg_tsp\",  \"a_avg_tsp\",\n",
    "                \"h_avg_ortg\",\"a_avg_ortg\",\"h_avg_drtg\",\"a_avg_drtg\",\n",
    "                \"h_win_perc\",\"a_win_perc\",\"h_back\",\"a_back\",\n",
    "                \"home_elo\", \"away_elo\"]\n",
    "\n",
    "X = df10[feature_cols]\n",
    "Y = df10.win_status\n",
    "\n",
    "scaler = StandardScaler()\n",
    "scale_X = scaler.fit_transform(X)\n",
    "\n",
    "# split data into training and testing\n",
    "X_train,X_test,y_train,y_test=train_test_split(X,Y,\n",
    "                                               test_size=0.3,\n",
    "                                               random_state=0)\n",
    "# scaled data\n",
    "scale_X_train,scale_X_test,y_train,y_test=train_test_split(scale_X,Y,\n",
    "                                               test_size=0.3,\n",
    "                                               random_state=0)"
   ]
  },
  {
   "cell_type": "markdown",
   "id": "fb27ad71",
   "metadata": {},
   "source": [
    "# Logistic Regression"
   ]
  },
  {
   "cell_type": "code",
   "execution_count": null,
   "id": "16914510",
   "metadata": {},
   "outputs": [],
   "source": [
    "%%time\n",
    "# set up k fold cross validation \n",
    "cv = RepeatedStratifiedKFold(n_splits=10, n_repeats = 3, random_state=1)\n",
    "\n",
    "# define model\n",
    "lr_model = LogisticRegression()\n",
    "# define hyperparameters to search for\n",
    "lr_space = dict()\n",
    "lr_space['solver'] = ['newton-cg', 'lbfgs', 'liblinear']\n",
    "lr_space['penalty'] = ['none', 'l1', 'l2', 'elasticnet']\n",
    "lr_space['C'] = loguniform(1e-5, 100)\n",
    "lr_space['multi_class'] = ['auto', 'ovr']\n",
    "lr_space['verbose'] = [0, 1, 2]\n",
    "\n",
    "# define random search domain\n",
    "lr_rand_search = RandomizedSearchCV(lr_model, lr_space, n_iter=100,\n",
    "                            scoring='accuracy', n_jobs=-1, cv=cv, random_state=1)\n",
    "search_results = lr_rand_search.fit(X_train, y_train)"
   ]
  },
  {
   "cell_type": "code",
   "execution_count": 168,
   "id": "dc1f8a72",
   "metadata": {},
   "outputs": [
    {
     "name": "stdout",
     "output_type": "stream",
     "text": [
      "Cross Validation Score: 0.709\n",
      "Difference in CV Scores:  1.097\n",
      "Random Search Run Time: 2min 43s\n",
      "Difference in Run Times: 2 mins 38s\n",
      "Best Parameters:  {'C': 0.05639944644003838, 'multi_class': 'auto', 'penalty': 'l1', 'solver': 'liblinear', 'verbose': 2}\n"
     ]
    }
   ],
   "source": [
    "print(\"Cross Validation Score: %s\" % round(search_results.best_score_,3))\n",
    "print(\"Difference in CV Scores: \", round((search_results.best_score_ - 0.6977156659765356)*100,3))\n",
    "print(\"Random Search Run Time: 2min 43s\")\n",
    "print(\"Difference in Run Times: 2 mins 38s\")\n",
    "print('Best Parameters: ', search_results.best_params_)"
   ]
  },
  {
   "cell_type": "code",
   "execution_count": 173,
   "id": "b5246d36",
   "metadata": {},
   "outputs": [
    {
     "data": {
      "text/html": [
       "<div>\n",
       "<style scoped>\n",
       "    .dataframe tbody tr th:only-of-type {\n",
       "        vertical-align: middle;\n",
       "    }\n",
       "\n",
       "    .dataframe tbody tr th {\n",
       "        vertical-align: top;\n",
       "    }\n",
       "\n",
       "    .dataframe thead th {\n",
       "        text-align: right;\n",
       "    }\n",
       "</style>\n",
       "<table border=\"1\" class=\"dataframe\">\n",
       "  <thead>\n",
       "    <tr style=\"text-align: right;\">\n",
       "      <th></th>\n",
       "      <th>mean_fit_time</th>\n",
       "      <th>std_fit_time</th>\n",
       "      <th>mean_score_time</th>\n",
       "      <th>std_score_time</th>\n",
       "      <th>param_C</th>\n",
       "      <th>param_multi_class</th>\n",
       "      <th>param_penalty</th>\n",
       "      <th>param_solver</th>\n",
       "      <th>param_verbose</th>\n",
       "      <th>params</th>\n",
       "      <th>...</th>\n",
       "      <th>split23_test_score</th>\n",
       "      <th>split24_test_score</th>\n",
       "      <th>split25_test_score</th>\n",
       "      <th>split26_test_score</th>\n",
       "      <th>split27_test_score</th>\n",
       "      <th>split28_test_score</th>\n",
       "      <th>split29_test_score</th>\n",
       "      <th>mean_test_score</th>\n",
       "      <th>std_test_score</th>\n",
       "      <th>rank_test_score</th>\n",
       "    </tr>\n",
       "  </thead>\n",
       "  <tbody>\n",
       "    <tr>\n",
       "      <th>0</th>\n",
       "      <td>0.118727</td>\n",
       "      <td>0.020467</td>\n",
       "      <td>0.006707</td>\n",
       "      <td>0.003061</td>\n",
       "      <td>0.008301</td>\n",
       "      <td>auto</td>\n",
       "      <td>none</td>\n",
       "      <td>lbfgs</td>\n",
       "      <td>1</td>\n",
       "      <td>{'C': 0.008301451461243866, 'multi_class': 'au...</td>\n",
       "      <td>...</td>\n",
       "      <td>0.614286</td>\n",
       "      <td>0.657143</td>\n",
       "      <td>0.785714</td>\n",
       "      <td>0.757143</td>\n",
       "      <td>0.600000</td>\n",
       "      <td>0.739130</td>\n",
       "      <td>0.695652</td>\n",
       "      <td>0.699137</td>\n",
       "      <td>0.057729</td>\n",
       "      <td>17</td>\n",
       "    </tr>\n",
       "    <tr>\n",
       "      <th>1</th>\n",
       "      <td>0.002022</td>\n",
       "      <td>0.002363</td>\n",
       "      <td>0.000000</td>\n",
       "      <td>0.000000</td>\n",
       "      <td>0.000106</td>\n",
       "      <td>auto</td>\n",
       "      <td>l1</td>\n",
       "      <td>newton-cg</td>\n",
       "      <td>1</td>\n",
       "      <td>{'C': 0.00010648568665651115, 'multi_class': '...</td>\n",
       "      <td>...</td>\n",
       "      <td>NaN</td>\n",
       "      <td>NaN</td>\n",
       "      <td>NaN</td>\n",
       "      <td>NaN</td>\n",
       "      <td>NaN</td>\n",
       "      <td>NaN</td>\n",
       "      <td>NaN</td>\n",
       "      <td>NaN</td>\n",
       "      <td>NaN</td>\n",
       "      <td>79</td>\n",
       "    </tr>\n",
       "    <tr>\n",
       "      <th>2</th>\n",
       "      <td>1.367376</td>\n",
       "      <td>0.260805</td>\n",
       "      <td>0.008867</td>\n",
       "      <td>0.005208</td>\n",
       "      <td>0.487778</td>\n",
       "      <td>ovr</td>\n",
       "      <td>l2</td>\n",
       "      <td>newton-cg</td>\n",
       "      <td>2</td>\n",
       "      <td>{'C': 0.48777805499545607, 'multi_class': 'ovr...</td>\n",
       "      <td>...</td>\n",
       "      <td>0.628571</td>\n",
       "      <td>0.657143</td>\n",
       "      <td>0.742857</td>\n",
       "      <td>0.685714</td>\n",
       "      <td>0.614286</td>\n",
       "      <td>0.753623</td>\n",
       "      <td>0.724638</td>\n",
       "      <td>0.694852</td>\n",
       "      <td>0.052091</td>\n",
       "      <td>31</td>\n",
       "    </tr>\n",
       "    <tr>\n",
       "      <th>3</th>\n",
       "      <td>0.002350</td>\n",
       "      <td>0.001489</td>\n",
       "      <td>0.000000</td>\n",
       "      <td>0.000000</td>\n",
       "      <td>0.001559</td>\n",
       "      <td>auto</td>\n",
       "      <td>elasticnet</td>\n",
       "      <td>newton-cg</td>\n",
       "      <td>2</td>\n",
       "      <td>{'C': 0.001559245927890369, 'multi_class': 'au...</td>\n",
       "      <td>...</td>\n",
       "      <td>NaN</td>\n",
       "      <td>NaN</td>\n",
       "      <td>NaN</td>\n",
       "      <td>NaN</td>\n",
       "      <td>NaN</td>\n",
       "      <td>NaN</td>\n",
       "      <td>NaN</td>\n",
       "      <td>NaN</td>\n",
       "      <td>NaN</td>\n",
       "      <td>78</td>\n",
       "    </tr>\n",
       "    <tr>\n",
       "      <th>4</th>\n",
       "      <td>0.254245</td>\n",
       "      <td>0.068019</td>\n",
       "      <td>0.007695</td>\n",
       "      <td>0.003556</td>\n",
       "      <td>0.000405</td>\n",
       "      <td>auto</td>\n",
       "      <td>l2</td>\n",
       "      <td>newton-cg</td>\n",
       "      <td>1</td>\n",
       "      <td>{'C': 0.00040461361843329433, 'multi_class': '...</td>\n",
       "      <td>...</td>\n",
       "      <td>0.671429</td>\n",
       "      <td>0.657143</td>\n",
       "      <td>0.728571</td>\n",
       "      <td>0.771429</td>\n",
       "      <td>0.600000</td>\n",
       "      <td>0.797101</td>\n",
       "      <td>0.695652</td>\n",
       "      <td>0.698675</td>\n",
       "      <td>0.057418</td>\n",
       "      <td>26</td>\n",
       "    </tr>\n",
       "  </tbody>\n",
       "</table>\n",
       "<p>5 rows × 43 columns</p>\n",
       "</div>"
      ],
      "text/plain": [
       "   mean_fit_time  std_fit_time  mean_score_time  std_score_time   param_C  \\\n",
       "0       0.118727      0.020467         0.006707        0.003061  0.008301   \n",
       "1       0.002022      0.002363         0.000000        0.000000  0.000106   \n",
       "2       1.367376      0.260805         0.008867        0.005208  0.487778   \n",
       "3       0.002350      0.001489         0.000000        0.000000  0.001559   \n",
       "4       0.254245      0.068019         0.007695        0.003556  0.000405   \n",
       "\n",
       "  param_multi_class param_penalty param_solver param_verbose  \\\n",
       "0              auto          none        lbfgs             1   \n",
       "1              auto            l1    newton-cg             1   \n",
       "2               ovr            l2    newton-cg             2   \n",
       "3              auto    elasticnet    newton-cg             2   \n",
       "4              auto            l2    newton-cg             1   \n",
       "\n",
       "                                              params  ...  split23_test_score  \\\n",
       "0  {'C': 0.008301451461243866, 'multi_class': 'au...  ...            0.614286   \n",
       "1  {'C': 0.00010648568665651115, 'multi_class': '...  ...                 NaN   \n",
       "2  {'C': 0.48777805499545607, 'multi_class': 'ovr...  ...            0.628571   \n",
       "3  {'C': 0.001559245927890369, 'multi_class': 'au...  ...                 NaN   \n",
       "4  {'C': 0.00040461361843329433, 'multi_class': '...  ...            0.671429   \n",
       "\n",
       "   split24_test_score  split25_test_score  split26_test_score  \\\n",
       "0            0.657143            0.785714            0.757143   \n",
       "1                 NaN                 NaN                 NaN   \n",
       "2            0.657143            0.742857            0.685714   \n",
       "3                 NaN                 NaN                 NaN   \n",
       "4            0.657143            0.728571            0.771429   \n",
       "\n",
       "   split27_test_score  split28_test_score  split29_test_score  \\\n",
       "0            0.600000            0.739130            0.695652   \n",
       "1                 NaN                 NaN                 NaN   \n",
       "2            0.614286            0.753623            0.724638   \n",
       "3                 NaN                 NaN                 NaN   \n",
       "4            0.600000            0.797101            0.695652   \n",
       "\n",
       "   mean_test_score  std_test_score  rank_test_score  \n",
       "0         0.699137        0.057729               17  \n",
       "1              NaN             NaN               79  \n",
       "2         0.694852        0.052091               31  \n",
       "3              NaN             NaN               78  \n",
       "4         0.698675        0.057418               26  \n",
       "\n",
       "[5 rows x 43 columns]"
      ]
     },
     "execution_count": 173,
     "metadata": {},
     "output_type": "execute_result"
    }
   ],
   "source": [
    "df = pd.DataFrame(search_results.cv_results_)\n",
    "vals = ['param_solver', 'param_penalty', 'param_C', 'param_multi_class', 'param_verbose']\n",
    "df[vals]\n",
    "df.head()"
   ]
  },
  {
   "cell_type": "markdown",
   "id": "42d7344b",
   "metadata": {},
   "source": [
    "# Random Forest"
   ]
  },
  {
   "cell_type": "code",
   "execution_count": 184,
   "id": "d4bbc624",
   "metadata": {},
   "outputs": [
    {
     "name": "stdout",
     "output_type": "stream",
     "text": [
      "CPU times: user 14.1 s, sys: 867 ms, total: 14.9 s\n",
      "Wall time: 3min 28s\n"
     ]
    }
   ],
   "source": [
    "%%time\n",
    "#define model\n",
    "rf_model = RandomForestClassifier()\n",
    "\n",
    "# define hyperparameters to search for\n",
    "rf_space = dict()\n",
    "rf_space['max_depth'] = [1,2,3,4,5,6,7,8,9,10,\n",
    "                         11,12,13,14,15,16,17,18,19,20]\n",
    "rf_space['max_features'] = [1,2,3,4,5]\n",
    "rf_space['n_estimators'] = [1,2,3,4,5,6,7,8,9,10,\n",
    "                         11,12,13,14,15,16,17,18,19,20]\n",
    "rf_space['criterion'] = ['gini', 'entropy']\n",
    "\n",
    "# define random search domain\n",
    "rf_rand_search = RandomizedSearchCV(rf_model, rf_space, n_iter=300,\n",
    "                            scoring='accuracy', n_jobs=-1, cv=cv, random_state=1)\n",
    "\n",
    "rf_search_results = rf_rand_search.fit(X_train, y_train)"
   ]
  },
  {
   "cell_type": "code",
   "execution_count": 182,
   "id": "b3d5c8cf",
   "metadata": {},
   "outputs": [
    {
     "name": "stdout",
     "output_type": "stream",
     "text": [
      "Cross Validation Score: 0.6699861973775019\n",
      "Difference in CV Scores:  0.239\n",
      "Random Search Run Time: 1min 15s\n",
      "Difference in Run Times: 43s\n",
      "Best Parameters:  {'n_estimators': 16, 'max_features': 5, 'max_depth': 4, 'criterion': 'entropy'}\n"
     ]
    }
   ],
   "source": [
    "print(\"Cross Validation Score: %s\" % round(rf_search_results.best_score_,3))\n",
    "print(\"Difference in CV Scores: \", round((rf_search_results.best_score_ - 0.6676)*100,3))\n",
    "print(\"Random Search Run Time: 1min 15s\")\n",
    "print(\"Difference in Run Times: 43s\")\n",
    "print('Best Parameters: ', rf_search_results.best_params_)"
   ]
  },
  {
   "cell_type": "markdown",
   "id": "1cd0a49a",
   "metadata": {},
   "source": [
    "# Support Vector Machine"
   ]
  },
  {
   "cell_type": "code",
   "execution_count": null,
   "id": "51f6754d",
   "metadata": {},
   "outputs": [],
   "source": [
    "%%time\n",
    "#define models\n",
    "svc_model = SVC()\n",
    "\n",
    "# define hyperparameters to search for\n",
    "svc_space = dict()\n",
    "svc_space['C'] = loguniform(1e-5, 100)\n",
    "svc_space['degree'] = [1,2,3]\n",
    "svc_space['gamma'] = ['auto', 'scale']\n",
    "svc_space['kernel'] = ['linear', 'rbf']\n",
    "\n",
    "# define random search domain\n",
    "svc_rand_search = RandomizedSearchCV(svc_model, svc_space, n_iter=100,\n",
    "                            scoring='accuracy', cv = cv)\n",
    "\n",
    "svc_search_results = svc_rand_search.fit(scale_X_train, y_train)"
   ]
  },
  {
   "cell_type": "code",
   "execution_count": 178,
   "id": "8a1d7eac",
   "metadata": {},
   "outputs": [
    {
     "name": "stdout",
     "output_type": "stream",
     "text": [
      "Cross Validation Score: 0.697\n",
      "Difference in CV Scores:  -0.094\n",
      "Random Search Run Time: 12min 21s\n",
      "Best Parameters:  {'C': 0.1654660553507267, 'gamma': 'scale', 'kernel': 'linear'}\n"
     ]
    }
   ],
   "source": [
    "print(\"Cross Validation Score: %s\" % round(svc_search_results.best_score_,3))\n",
    "print(\"Difference in CV Scores: \", round((svc_search_results.best_score_ - 0.659)*100,3))\n",
    "print(\"Random Search Run Time: 12min 21s\")\n",
    "print('Best Parameters: ', svc_search_results.best_params_)"
   ]
  },
  {
   "cell_type": "markdown",
   "id": "fbe206fc",
   "metadata": {},
   "source": [
    "# Naive Bayes"
   ]
  },
  {
   "cell_type": "code",
   "execution_count": null,
   "id": "f368d63e",
   "metadata": {},
   "outputs": [],
   "source": [
    "%%time\n",
    "#define models\n",
    "nb_model = GaussianNB()\n",
    "\n",
    "# define hyperparameters to search for\n",
    "nb_space = dict()\n",
    "nb_space['var_smoothing'] = loguniform(1e-10, 100)\n",
    "\n",
    "# define random search domain\n",
    "nb_rand_search = RandomizedSearchCV(nb_model, nb_space, n_iter=100,\n",
    "                            scoring='accuracy', refit = True)\n",
    "\n",
    "nb_search_results = nb_rand_search.fit(scale_X_train, y_train)"
   ]
  },
  {
   "cell_type": "code",
   "execution_count": 181,
   "id": "9d6840d0",
   "metadata": {},
   "outputs": [
    {
     "name": "stdout",
     "output_type": "stream",
     "text": [
      "Cross Validation Score: 0.675\n",
      "Difference in CV Scores:  -2.301\n",
      "Random Search Run Time: 2.15s\n",
      "Best Parameters:  {'var_smoothing': 3.23155449220959}\n"
     ]
    }
   ],
   "source": [
    "print(\"Cross Validation Score: %s\" % round(nb_search_results.best_score_,3))\n",
    "print(\"Difference in CV Scores: \", round((nb_search_results.best_score_ - 0.6977156659765356)*100,3))\n",
    "print(\"Random Search Run Time: 2.15s\")\n",
    "print('Best Parameters: ', nb_search_results.best_params_)"
   ]
  }
 ],
 "metadata": {
  "kernelspec": {
   "display_name": "Python 3 (ipykernel)",
   "language": "python",
   "name": "python3"
  },
  "language_info": {
   "codemirror_mode": {
    "name": "ipython",
    "version": 3
   },
   "file_extension": ".py",
   "mimetype": "text/x-python",
   "name": "python",
   "nbconvert_exporter": "python",
   "pygments_lexer": "ipython3",
   "version": "3.9.7"
  }
 },
 "nbformat": 4,
 "nbformat_minor": 5
}
