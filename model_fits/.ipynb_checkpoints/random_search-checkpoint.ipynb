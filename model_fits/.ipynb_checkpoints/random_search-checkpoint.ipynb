{
 "cells": [
  {
   "cell_type": "markdown",
   "id": "2b41623e",
   "metadata": {},
   "source": [
    "# Random Search "
   ]
  },
  {
   "cell_type": "markdown",
   "id": "701feb1c",
   "metadata": {},
   "source": [
    "### Load Packages"
   ]
  },
  {
   "cell_type": "code",
   "execution_count": 117,
   "id": "4815e93e",
   "metadata": {},
   "outputs": [],
   "source": [
    "import os\n",
    "import pandas as pd\n",
    "import numpy as np\n",
    "from sklearn.model_selection import train_test_split\n",
    "from sklearn.model_selection import RepeatedStratifiedKFold\n",
    "from sklearn.linear_model import LogisticRegression\n",
    "from sklearn.model_selection import cross_val_score\n",
    "from numpy import mean\n",
    "from numpy import std\n",
    "from sklearn.ensemble import RandomForestClassifier\n",
    "from sklearn.svm import SVC\n",
    "from sklearn.preprocessing import StandardScaler\n",
    "from sklearn.naive_bayes import GaussianNB\n",
    "from sklearn.neural_network import MLPClassifier\n",
    "from scipy.stats import loguniform\n",
    "from sklearn.model_selection import RandomizedSearchCV\n",
    "from sklearn.metrics import accuracy_score\n",
    "import scipy.stats as stats\n",
    "from sklearn.metrics import classification_report, confusion_matrix"
   ]
  },
  {
   "cell_type": "markdown",
   "id": "12650071",
   "metadata": {},
   "source": [
    "### Read and Format Data"
   ]
  },
  {
   "cell_type": "code",
   "execution_count": 118,
   "id": "96dfc87e",
   "metadata": {},
   "outputs": [],
   "source": [
    "os.chdir('/Users/johnoliver/Downloads/grad-nba-wins/data/mod_data')\n",
    "# data from 2010\n",
    "df10 = pd.read_csv(\"mod10.csv\")\n",
    "# get rid of first variable (unique identifier)\n",
    "df10 = df10.iloc[:,1:]"
   ]
  },
  {
   "cell_type": "code",
   "execution_count": 119,
   "id": "ff0c2778",
   "metadata": {},
   "outputs": [],
   "source": [
    "# define x and y variables\n",
    "feature_cols = [\"h_avg_points\",\"a_avg_points\",\"h_avg_fg\",\"a_avg_fg\",\n",
    "                \"h_avg_fga\",\"a_avg_fga\",\"h_avg_3p\",\"a_avg_3p\",\n",
    "                \"h_avg_3pa\",\"a_avg_3pa\",\"h_avg_ft\",\"a_avg_ft\",\n",
    "                \"h_avg_orb\",\"a_avg_orb\",\"h_avg_drb\" ,\"a_avg_drb\",\n",
    "                \"h_avg_ast\",\"a_avg_ast\",\"h_avg_stl\", \"a_avg_stl\", \n",
    "                \"h_avg_blk\",\"a_avg_blk\",\"h_avg_tov\",\"a_avg_tov\",\n",
    "                \"h_avg_pf\",\"a_avg_pf\" ,\"h_avg_tsp\",  \"a_avg_tsp\",\n",
    "                \"h_avg_ortg\",\"a_avg_ortg\",\"h_avg_drtg\",\"a_avg_drtg\",\n",
    "                \"h_win_perc\",\"a_win_perc\",\"h_back\",\"a_back\",\n",
    "                \"home_elo\", \"away_elo\"]\n",
    "\n",
    "X = df10[feature_cols]\n",
    "Y = df10.win_status\n",
    "\n",
    "scaler = StandardScaler()\n",
    "scale_X = scaler.fit_transform(X)\n",
    "\n",
    "# split data into training and testing\n",
    "X_train,X_test,y_train,y_test=train_test_split(X,Y,\n",
    "                                               test_size=0.3,\n",
    "                                               random_state=0)\n",
    "# scaled data\n",
    "scale_X_train,scale_X_test,y_train,y_test=train_test_split(scale_X,Y,\n",
    "                                               test_size=0.3,\n",
    "                                               random_state=0)"
   ]
  },
  {
   "cell_type": "markdown",
   "id": "fb27ad71",
   "metadata": {},
   "source": [
    "# Logistic Regression"
   ]
  },
  {
   "cell_type": "code",
   "execution_count": null,
   "id": "16914510",
   "metadata": {},
   "outputs": [],
   "source": [
    "%%time\n",
    "# set up k fold cross validation \n",
    "cv = RepeatedStratifiedKFold(n_splits=10, n_repeats = 3, random_state=1)\n",
    "\n",
    "# define model\n",
    "lr_model = LogisticRegression()\n",
    "# define hyperparameters to search for\n",
    "lr_space = dict()\n",
    "lr_space['solver'] = ['newton-cg', 'lbfgs', 'liblinear']\n",
    "lr_space['penalty'] = ['none', 'l1', 'l2', 'elasticnet']\n",
    "lr_space['C'] = loguniform(1e-5, 100)\n",
    "lr_space['multi_class'] = ['auto', 'ovr']\n",
    "lr_space['verbose'] = [0, 1, 2]\n",
    "\n",
    "# define random search domain\n",
    "lr_rand_search = RandomizedSearchCV(lr_model, lr_space, n_iter=100,\n",
    "                            scoring='accuracy', n_jobs=-1, cv=cv, random_state=1)\n",
    "search_results = lr_rand_search.fit(X_train, y_train)"
   ]
  },
  {
   "cell_type": "code",
   "execution_count": 128,
   "id": "dc1f8a72",
   "metadata": {},
   "outputs": [
    {
     "name": "stdout",
     "output_type": "stream",
     "text": [
      "Cross Validation Score: 0.719\n",
      "Difference in CV Scores:  2.148\n",
      "Test Score:  0.683\n",
      "Difference in Tests:  4.333\n",
      "Random Search Run Time: 2min 43s\n",
      "Best Parameters:  {'C': 0.05639944644003838, 'multi_class': 'auto', 'penalty': 'l1', 'solver': 'liblinear', 'verbose': 2}\n"
     ]
    }
   ],
   "source": [
    "bestmodel = search_results.best_estimator_\n",
    "print(\"Cross Validation Score: %s\" % round(search_results.score(X_train, y_train),3))\n",
    "print(\"Difference in CV Scores: \", round((search_results.score(X_train, y_train) - 0.6977156659765356)*100,3))\n",
    "print(\"Test Score: \", round(bestmodel.score(X_test, y_test),3))\n",
    "print(\"Difference in Tests: \", round((bestmodel.score(X_test, y_test) - 0.64) *100,3))\n",
    "print(\"Random Search Run Time: 2min 43s\")\n",
    "print('Best Parameters: ', search_results.best_params_)"
   ]
  },
  {
   "cell_type": "markdown",
   "id": "42d7344b",
   "metadata": {},
   "source": [
    "# Random Forest"
   ]
  },
  {
   "cell_type": "code",
   "execution_count": null,
   "id": "d4bbc624",
   "metadata": {},
   "outputs": [],
   "source": [
    "%%time\n",
    "#define model\n",
    "rf_model = RandomForestClassifier()\n",
    "\n",
    "# define hyperparameters to search for\n",
    "rf_space = dict()\n",
    "rf_space['max_depth'] = [1,2,3,4,5,6,7,8,9,10,\n",
    "                         11,12,13,14,15,16,17,18,19,20]\n",
    "rf_space['max_features'] = [1,2,3,4,5]\n",
    "rf_space['n_estimators'] = [1,2,3,4,5,6,7,8,9,10,\n",
    "                         11,12,13,14,15,16,17,18,19,20]\n",
    "rf_space['criterion'] = ['gini', 'entropy']\n",
    "\n",
    "# define random search domain\n",
    "rf_rand_search = RandomizedSearchCV(rf_model, rf_space, n_iter=100,\n",
    "                            scoring='accuracy', n_jobs=-1, cv=cv, random_state=1)\n",
    "\n",
    "rf_search_results = rf_rand_search.fit(X_train, y_train)"
   ]
  },
  {
   "cell_type": "code",
   "execution_count": 130,
   "id": "b3d5c8cf",
   "metadata": {},
   "outputs": [
    {
     "name": "stdout",
     "output_type": "stream",
     "text": [
      "Cross Validation Score: 0.782\n",
      "Difference in CV Scores:  8.452\n",
      "Test Score:  0.683\n",
      "Difference in Tests:  4.333\n",
      "Random Search Run Time: 1min 15s\n",
      "Best Parameters:  {'n_estimators': 16, 'max_features': 5, 'max_depth': 4, 'criterion': 'entropy'}\n"
     ]
    }
   ],
   "source": [
    "bestmodel = rf_search_results.best_estimator_\n",
    "print(\"Cross Validation Score: %s\" % round(rf_search_results.score(X_train, y_train),3))\n",
    "print(\"Difference in CV Scores: \", round((rf_search_results.score(X_train, y_train) - 0.6977156659765356)*100,3))\n",
    "print(\"Test Score: \", round(bestmodel.score(X_test, y_test),3))\n",
    "print(\"Difference in Tests: \", round((bestmodel.score(X_test, y_test) - 0.64) *100,3))\n",
    "print(\"Random Search Run Time: 1min 15s\")\n",
    "print('Best Parameters: ', rf_search_results.best_params_)"
   ]
  },
  {
   "cell_type": "markdown",
   "id": "1cd0a49a",
   "metadata": {},
   "source": [
    "# Support Vector Machine"
   ]
  },
  {
   "cell_type": "code",
   "execution_count": null,
   "id": "51f6754d",
   "metadata": {},
   "outputs": [],
   "source": [
    "%%time\n",
    "#define models\n",
    "svc_model = SVC()\n",
    "\n",
    "# define hyperparameters to search for\n",
    "svc_space = dict()\n",
    "svc_space['C'] = loguniform(1e-5, 100)\n",
    "svc_space['gamma'] = ['auto', 'scale']\n",
    "svc_space['verbose'] = [1,2,3]\n",
    "svc_space['kernel'] = ['linear', 'rbf']\n",
    "\n",
    "# define random search domain\n",
    "svc_rand_search = RandomizedSearchCV(svc_model, svc_space, n_iter=100,\n",
    "                            scoring='accuracy', refit = True, cv = cv)\n",
    "\n",
    "svc_search_results = svc_rand_search.fit(scale_X_train, y_train)"
   ]
  },
  {
   "cell_type": "code",
   "execution_count": null,
   "id": "8a1d7eac",
   "metadata": {},
   "outputs": [],
   "source": [
    "bestmodel = svc_search_results.best_estimator_\n",
    "print(\"Cross Validation Score: %s\" % round(svc_search_results.score(X_train, y_train),3))\n",
    "print(\"Difference in CV Scores: \", round((svc_search_results.score(X_train, y_train) - 0.6977156659765356)*100,3))\n",
    "print(\"Test Score: \", round(bestmodel.score(X_test, y_test),3))\n",
    "print(\"Difference in Tests: \", round((bestmodel.score(X_test, y_test) - 0.64) *100,3))\n",
    "print(\"Random Search Run Time: 1min 15s\")\n",
    "print('Best Parameters: ', svc_search_results.best_params_)"
   ]
  },
  {
   "cell_type": "markdown",
   "id": "fbe206fc",
   "metadata": {},
   "source": [
    "# Naive Bayes"
   ]
  },
  {
   "cell_type": "code",
   "execution_count": null,
   "id": "f368d63e",
   "metadata": {},
   "outputs": [],
   "source": [
    "%%time\n",
    "#define models\n",
    "nb_model = GaussianNB()\n",
    "\n",
    "# define hyperparameters to search for\n",
    "nb_space = dict()\n",
    "nb_space['var_smoothing'] = np.logspace(0,-9, num=100)\n",
    "\n",
    "# define random search domain\n",
    "nb_rand_search = RandomizedSearchCV(nb_model, nb_space, n_iter=100,\n",
    "                            scoring='accuracy', refit = True)\n",
    "\n",
    "nb_rand_search.fit(scale_X_train, y_train)"
   ]
  },
  {
   "cell_type": "code",
   "execution_count": 101,
   "id": "9d6840d0",
   "metadata": {},
   "outputs": [
    {
     "name": "stdout",
     "output_type": "stream",
     "text": [
      "Test Score: 0.38666666666666666\n",
      "Nonparameterized Run Time: \n",
      "Best Parameters:  {'var_smoothing': 1.0}\n",
      "Difference from non-param:  -27.333333333333336 %\n"
     ]
    },
    {
     "name": "stderr",
     "output_type": "stream",
     "text": [
      "/Library/Frameworks/Python.framework/Versions/3.9/lib/python3.9/site-packages/sklearn/base.py:434: UserWarning: X has feature names, but GaussianNB was fitted without feature names\n",
      "  warnings.warn(\n"
     ]
    }
   ],
   "source": [
    "nb_ypred = nb_rand_search.predict(X_test)\n",
    "print('Test Score: %s' % accuracy_score(y_test, nb_ypred))\n",
    "print(\"Nonparameterized Run Time: \")\n",
    "print('Best Parameters: ', nb_rand_search.best_params_)\n",
    "print('Difference from non-param: ', (accuracy_score(y_test, nb_ypred) - 0.66)*100, '%')"
   ]
  }
 ],
 "metadata": {
  "kernelspec": {
   "display_name": "Python 3 (ipykernel)",
   "language": "python",
   "name": "python3"
  },
  "language_info": {
   "codemirror_mode": {
    "name": "ipython",
    "version": 3
   },
   "file_extension": ".py",
   "mimetype": "text/x-python",
   "name": "python",
   "nbconvert_exporter": "python",
   "pygments_lexer": "ipython3",
   "version": "3.9.7"
  }
 },
 "nbformat": 4,
 "nbformat_minor": 5
}
